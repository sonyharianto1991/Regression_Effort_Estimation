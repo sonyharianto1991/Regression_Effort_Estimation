{
  "cells": [
    {
      "cell_type": "code",
      "execution_count": 1,
      "metadata": {
        "id": "ThEP3b70Ammv"
      },
      "outputs": [],
      "source": [
        "# Load libraries\n",
        "import pandas as pd\n",
        "import numpy as np\n",
        "from sklearn.linear_model import LinearRegression\n",
        "from sklearn.model_selection import train_test_split\n",
        "from sklearn.metrics import mean_squared_error, r2_score"
      ]
    },
    {
      "cell_type": "code",
      "execution_count": 2,
      "metadata": {
        "id": "TluOsJQMAmmz"
      },
      "outputs": [],
      "source": [
        "# Load dataset\n",
        "df = pd.read_csv('/content/02.desharnais.csv')\n",
        "df = df.drop(index=[37, 43, 64, 74])  # Remove incomplete rows"
      ]
    },
    {
      "cell_type": "code",
      "execution_count": 3,
      "metadata": {
        "id": "SSWq3PSpAmm1"
      },
      "outputs": [],
      "source": [
        "# Log-transform and create dummy variables\n",
        "df['ln_Effort'] = np.log(df['Effort'])\n",
        "df['ln_Size'] = np.log(df['PointsNonAdjust'])\n",
        "df['ln_Transactions'] = np.log(df['Transactions'])\n",
        "df['ln_Entities'] = np.log(df['Entities'])\n",
        "df['L1'] = (df['Language'] == 1).astype(int)\n",
        "df['L2'] = (df['Language'] == 2).astype(int)"
      ]
    },
    {
      "cell_type": "code",
      "execution_count": 4,
      "metadata": {
        "id": "9qcUCDOrAmm2"
      },
      "outputs": [],
      "source": [
        "# Prepare features and target\n",
        "features = ['ln_Size', 'L1', 'L2', 'TeamExp', 'ManagerExp', 'Adjustment']\n",
        "target = 'ln_Effort'\n",
        "X = df[features]\n",
        "y = df[target]"
      ]
    },
    {
      "cell_type": "code",
      "execution_count": 5,
      "metadata": {
        "id": "5MUCPQUbAmm3"
      },
      "outputs": [],
      "source": [
        "# Train-test split\n",
        "X_train, X_test, y_train, y_test = train_test_split(X, y, test_size=0.2, random_state=42)\n",
        "model = LinearRegression()\n",
        "model.fit(X_train, y_train)\n",
        "y_pred = model.predict(X_test)"
      ]
    },
    {
      "cell_type": "code",
      "execution_count": 6,
      "metadata": {
        "colab": {
          "base_uri": "https://localhost:8080/"
        },
        "id": "ZAStd2aIAmm5",
        "outputId": "ffbfdf9d-a4d2-497d-f02e-abcc8d3cfad5"
      },
      "outputs": [
        {
          "output_type": "execute_result",
          "data": {
            "text/plain": [
              "{'MMRE': np.float64(0.34508042907916237),\n",
              " 'PRED(0.25)': np.float64(0.375),\n",
              " 'RMSE': np.float64(2936.2120198562197),\n",
              " 'Mean Error': np.float64(1136.911152025678),\n",
              " 'R²': 0.6125428909537773}"
            ]
          },
          "metadata": {},
          "execution_count": 6
        }
      ],
      "source": [
        "# Evaluation metrics\n",
        "def mmre(y_true, y_pred):\n",
        "    return np.mean(np.abs((np.exp(y_true) - np.exp(y_pred)) / np.exp(y_true)))\n",
        "\n",
        "def pred_25(y_true, y_pred):\n",
        "    mre = np.abs((np.exp(y_true) - np.exp(y_pred)) / np.exp(y_true))\n",
        "    return np.mean(mre <= 0.25)\n",
        "\n",
        "mmre_val = mmre(y_test, y_pred)\n",
        "pred25_val = pred_25(y_test, y_pred)\n",
        "rmse_val = np.sqrt(mean_squared_error(np.exp(y_test), np.exp(y_pred)))\n",
        "mean_error = np.mean(np.exp(y_test) - np.exp(y_pred))\n",
        "r2_val = r2_score(y_test, y_pred)\n",
        "\n",
        "results = {\n",
        "    'MMRE': mmre_val,\n",
        "    'PRED(0.25)': pred25_val,\n",
        "    'RMSE': rmse_val,\n",
        "    'Mean Error': mean_error,\n",
        "    'R²': r2_val\n",
        "}\n",
        "results"
      ]
    },
    {
      "cell_type": "code",
      "source": [
        "# -----------------------------\n",
        "# Hyperparameter Tuning for ANN using GridSearchCV\n",
        "# -----------------------------\n",
        "\n",
        "from sklearn.model_selection import GridSearchCV\n",
        "from sklearn.pipeline import Pipeline\n",
        "from sklearn.preprocessing import StandardScaler\n",
        "from sklearn.neural_network import MLPRegressor\n",
        "\n",
        "# Step 1: Define parameter grid (ringan agar cepat dieksekusi)\n",
        "param_grid_light = {\n",
        "    'mlp__hidden_layer_sizes': [(4,), (6,), (8,)],  # variasi jumlah neuron\n",
        "    'mlp__activation': ['relu'],                    # fungsi aktivasi ReLU\n",
        "    'mlp__alpha': [0.0001, 0.001],                  # L2 regularisasi\n",
        "    'mlp__learning_rate': ['constant']              # jenis learning rate\n",
        "}\n",
        "\n",
        "# Step 2: Bangun pipeline (normalisasi + ANN)\n",
        "pipeline_light = Pipeline([\n",
        "    ('scaler', StandardScaler()),                   # normalisasi input\n",
        "    ('mlp', MLPRegressor(max_iter=10000, random_state=42))  # MLP\n",
        "])\n",
        "\n",
        "# Step 3: GridSearchCV untuk mencari kombinasi parameter terbaik\n",
        "grid_search_light = GridSearchCV(\n",
        "    estimator=pipeline_light,\n",
        "    param_grid=param_grid_light,\n",
        "    cv=5,                       # 5-fold cross validation\n",
        "    scoring='r2',               # gunakan R² sebagai metrik utama\n",
        "    n_jobs=-1                   # gunakan semua core CPU jika memungkinkan\n",
        ")\n",
        "\n",
        "# Step 4: Training dengan semua kombinasi parameter\n",
        "grid_search_light.fit(X_train, y_train)\n",
        "\n",
        "# Step 5: Gunakan model terbaik untuk prediksi\n",
        "best_ann = grid_search_light.best_estimator_\n",
        "y_pred_best = best_ann.predict(X_test)\n",
        "\n",
        "# Step 6: Definisikan metrik evaluasi\n",
        "def mmre(y_true, y_pred):\n",
        "    return np.mean(np.abs((np.exp(y_true) - np.exp(y_pred)) / np.exp(y_true)))\n",
        "\n",
        "def pred_25(y_true, y_pred):\n",
        "    mre = np.abs((np.exp(y_true) - np.exp(y_pred)) / np.exp(y_true))\n",
        "    return np.mean(mre <= 0.25)\n",
        "\n",
        "# Step 7: Hitung hasil evaluasi\n",
        "print(\"🔍 Best Params:\", grid_search_light.best_params_)\n",
        "print(\"📉 MMRE:\", mmre(y_test, y_pred_best))\n",
        "print(\"✅ PRED(0.25):\", pred_25(y_test, y_pred_best))\n",
        "print(\"📏 RMSE:\", np.sqrt(mean_squared_error(np.exp(y_test), np.exp(y_pred_best))))\n",
        "print(\"📐 Mean Error:\", np.mean(np.exp(y_test) - np.exp(y_pred_best)))\n",
        "print(\"📊 R²:\", r2_score(y_test, y_pred_best))"
      ],
      "metadata": {
        "colab": {
          "base_uri": "https://localhost:8080/"
        },
        "id": "PWM_5UbNFet_",
        "outputId": "0b4b279a-9287-433c-c50a-5981829ffeaf"
      },
      "execution_count": 7,
      "outputs": [
        {
          "output_type": "stream",
          "name": "stdout",
          "text": [
            "🔍 Best Params: {'mlp__activation': 'relu', 'mlp__alpha': 0.0001, 'mlp__hidden_layer_sizes': (4,), 'mlp__learning_rate': 'constant'}\n",
            "📉 MMRE: 0.5183146485774117\n",
            "✅ PRED(0.25): 0.25\n",
            "📏 RMSE: 3784.3296697416395\n",
            "📐 Mean Error: 1757.009791298873\n",
            "📊 R²: 0.02689273798247216\n"
          ]
        }
      ]
    },
    {
      "cell_type": "code",
      "source": [
        "# ============================\n",
        "# 📦 RIDGE & LASSO REGRESSION\n",
        "# ============================\n",
        "\n",
        "from sklearn.linear_model import Ridge, Lasso\n",
        "from sklearn.preprocessing import StandardScaler\n",
        "from sklearn.metrics import mean_squared_error, r2_score\n",
        "\n",
        "# ⚙️ Step 1: Scaling fitur untuk Ridge/Lasso\n",
        "scaler = StandardScaler()\n",
        "X_train_scaled = scaler.fit_transform(X_train)\n",
        "X_test_scaled = scaler.transform(X_test)\n",
        "\n",
        "# 🧮 Step 2: Model Ridge Regression\n",
        "ridge_model = Ridge(alpha=1.0, random_state=42)\n",
        "ridge_model.fit(X_train_scaled, y_train)\n",
        "y_pred_ridge = ridge_model.predict(X_test_scaled)\n",
        "\n",
        "# 🧮 Step 3: Model Lasso Regression\n",
        "lasso_model = Lasso(alpha=0.01, max_iter=10000, random_state=42)\n",
        "lasso_model.fit(X_train_scaled, y_train)\n",
        "y_pred_lasso = lasso_model.predict(X_test_scaled)\n",
        "\n",
        "# 🧪 Step 4: Definisikan fungsi evaluasi\n",
        "def mmre(y_true, y_pred):\n",
        "    return np.mean(np.abs((np.exp(y_true) - np.exp(y_pred)) / np.exp(y_true)))\n",
        "\n",
        "def pred_25(y_true, y_pred):\n",
        "    mre = np.abs((np.exp(y_true) - np.exp(y_pred)) / np.exp(y_true))\n",
        "    return np.mean(mre <= 0.25)\n",
        "\n",
        "# 📊 Step 5: Evaluasi Ridge Regression\n",
        "print(\"===== RIDGE REGRESSION =====\")\n",
        "print(\"MMRE:\", mmre(y_test, y_pred_ridge))\n",
        "print(\"PRED(0.25):\", pred_25(y_test, y_pred_ridge))\n",
        "print(\"RMSE:\", np.sqrt(mean_squared_error(np.exp(y_test), np.exp(y_pred_ridge))))\n",
        "print(\"Mean Error:\", np.mean(np.exp(y_test) - np.exp(y_pred_ridge)))\n",
        "print(\"R²:\", r2_score(y_test, y_pred_ridge))\n",
        "\n",
        "# 📊 Step 6: Evaluasi Lasso Regression\n",
        "print(\"\\n===== LASSO REGRESSION =====\")\n",
        "print(\"MMRE:\", mmre(y_test, y_pred_lasso))\n",
        "print(\"PRED(0.25):\", pred_25(y_test, y_pred_lasso))\n",
        "print(\"RMSE:\", np.sqrt(mean_squared_error(np.exp(y_test), np.exp(y_pred_lasso))))\n",
        "print(\"Mean Error:\", np.mean(np.exp(y_test) - np.exp(y_pred_lasso)))\n",
        "print(\"R²:\", r2_score(y_test, y_pred_lasso))"
      ],
      "metadata": {
        "colab": {
          "base_uri": "https://localhost:8080/"
        },
        "id": "CkdE9fO3H4fB",
        "outputId": "87981e7e-1e49-4a34-91cb-381b7e86c7bd"
      },
      "execution_count": 9,
      "outputs": [
        {
          "output_type": "stream",
          "name": "stdout",
          "text": [
            "===== RIDGE REGRESSION =====\n",
            "MMRE: 0.3402201025526004\n",
            "PRED(0.25): 0.375\n",
            "RMSE: 2983.714063210971\n",
            "Mean Error: 1252.8967183603752\n",
            "R²: 0.6062581279448416\n",
            "\n",
            "===== LASSO REGRESSION =====\n",
            "MMRE: 0.3415606716836204\n",
            "PRED(0.25): 0.3125\n",
            "RMSE: 3053.1255257706825\n",
            "Mean Error: 1324.308186175368\n",
            "R²: 0.5885616906380897\n"
          ]
        }
      ]
    },
    {
      "cell_type": "code",
      "source": [
        "# ============================\n",
        "# 📊 TABEL PERBANDINGAN MODEL\n",
        "# ============================\n",
        "\n",
        "import pandas as pd\n",
        "\n",
        "# Data evaluasi model: Ridge, Lasso, dan ANN\n",
        "comparison_data = {\n",
        "    \"Model\": [\"Ridge\", \"Lasso\", \"ANN (Best Tuning)\"],\n",
        "    \"MMRE\": [0.340, 0.342, 0.518],\n",
        "    \"PRED(0.25)\": [0.375, 0.313, 0.250],\n",
        "    \"RMSE\": [2983.71, 3053.13, 3784.33],\n",
        "    \"Mean Error\": [1252.90, 1324.31, 1757.01],\n",
        "    \"R²\": [0.606, 0.589, 0.027]\n",
        "}\n",
        "\n",
        "# Buat DataFrame\n",
        "comparison_df = pd.DataFrame(comparison_data)\n",
        "\n",
        "# Tampilkan tabel\n",
        "print(comparison_df)"
      ],
      "metadata": {
        "colab": {
          "base_uri": "https://localhost:8080/"
        },
        "id": "8ngHb0E9INF-",
        "outputId": "9f41f223-7906-4780-99ac-96e32e63ec77"
      },
      "execution_count": 10,
      "outputs": [
        {
          "output_type": "stream",
          "name": "stdout",
          "text": [
            "               Model   MMRE  PRED(0.25)     RMSE  Mean Error     R²\n",
            "0              Ridge  0.340       0.375  2983.71     1252.90  0.606\n",
            "1              Lasso  0.342       0.313  3053.13     1324.31  0.589\n",
            "2  ANN (Best Tuning)  0.518       0.250  3784.33     1757.01  0.027\n"
          ]
        }
      ]
    },
    {
      "cell_type": "code",
      "source": [
        "# ===============================\n",
        "# 📊 TABEL PERBANDINGAN MIRIP PAPER\n",
        "# ===============================\n",
        "\n",
        "import pandas as pd\n",
        "\n",
        "# Contoh data hasil eksperimen (Anda bisa lengkapi dari eksperimen Anda sendiri)\n",
        "comparison_data_detailed = {\n",
        "    \"Independent Variables\": [\n",
        "        \"Size, Env, Language, TExp, MExp\",\n",
        "        \"Size, Language, TExp, MExp\",\n",
        "        \"Size, Env, TExp, MExp\",\n",
        "        \"Size, Env, Language, MExp\",\n",
        "        \"Size, Env, Language, TExp\",\n",
        "        \"Size\"\n",
        "    ],\n",
        "    # Linear Regression (atau Ridge jika setara)\n",
        "    \"LR_MMRE\": [0.32, 0.32, 0.57, 0.32, 0.32, 0.61],\n",
        "    \"LR_PRED(0.25)\": [46, 45, 40, 50, 46, 35],\n",
        "    \"LR_RMSE\": [2305, 2409, 3029, 2301, 2370, 3122],\n",
        "    \"LR_MEAN\": [325, 525, 702, 352, 377, 791],\n",
        "    \"LR_R2\": [79.3, 74.8, 48.3, 78.9, 76.9, 42.4],\n",
        "    # ANN Model\n",
        "    \"ANN_MMRE\": [0.31, 0.33, 0.58, 0.33, 0.32, 0.62],\n",
        "    \"ANN_PRED(0.25)\": [49, 48, 35, 48, 48, 40],\n",
        "    \"ANN_RMSE\": [2350, 2320, 2951, 2299, 2377, 3081],\n",
        "    \"ANN_MEAN\": [434, 275, 505, 252, 229, 652],\n",
        "    \"ANN_R2\": [81.1, 76.2, 48.6, 78.7, 79.2, 42.3],\n",
        "}\n",
        "\n",
        "df_comparison_paper_style = pd.DataFrame(comparison_data_detailed)\n",
        "\n",
        "# Tampilkan\n",
        "print(df_comparison_paper_style)"
      ],
      "metadata": {
        "colab": {
          "base_uri": "https://localhost:8080/"
        },
        "id": "C0fEmR8yIo6u",
        "outputId": "0e2d69c3-6c6a-440a-a6e0-267aab2d5831"
      },
      "execution_count": 11,
      "outputs": [
        {
          "output_type": "stream",
          "name": "stdout",
          "text": [
            "             Independent Variables  LR_MMRE  LR_PRED(0.25)  LR_RMSE  LR_MEAN  \\\n",
            "0  Size, Env, Language, TExp, MExp     0.32             46     2305      325   \n",
            "1       Size, Language, TExp, MExp     0.32             45     2409      525   \n",
            "2            Size, Env, TExp, MExp     0.57             40     3029      702   \n",
            "3        Size, Env, Language, MExp     0.32             50     2301      352   \n",
            "4        Size, Env, Language, TExp     0.32             46     2370      377   \n",
            "5                             Size     0.61             35     3122      791   \n",
            "\n",
            "   LR_R2  ANN_MMRE  ANN_PRED(0.25)  ANN_RMSE  ANN_MEAN  ANN_R2  \n",
            "0   79.3      0.31              49      2350       434    81.1  \n",
            "1   74.8      0.33              48      2320       275    76.2  \n",
            "2   48.3      0.58              35      2951       505    48.6  \n",
            "3   78.9      0.33              48      2299       252    78.7  \n",
            "4   76.9      0.32              48      2377       229    79.2  \n",
            "5   42.4      0.62              40      3081       652    42.3  \n"
          ]
        }
      ]
    },
    {
      "cell_type": "code",
      "source": [
        "# ============================\n",
        "# 📊 TABEL PERBANDINGAN HASIL EKSPERIMEN (FORMAT PAPER)\n",
        "# ============================\n",
        "\n",
        "import pandas as pd\n",
        "\n",
        "# Data hasil eksperimen Anda & referensi dari paper\n",
        "data_lengkap = {\n",
        "    \"Independent Variables\": [\n",
        "        \"Size, Env, Language, TExp, MExp\",  # Eksperimen lengkap (Ridge & ANN)\n",
        "        \"Size\"                              # Referensi baseline dari paper\n",
        "    ],\n",
        "\n",
        "    # Hasil dari Ridge Regression (MLR ekuivalen)\n",
        "    \"LR_MMRE\": [0.340, 0.610],\n",
        "    \"LR_PRED(0.25)\": [0.375 * 100, 0.35 * 100],  # dalam persen\n",
        "    \"LR_RMSE\": [2983.71, 3122.00],\n",
        "    \"LR_MEAN\": [1252.90, 791.00],\n",
        "    \"LR_R2\": [0.606 * 100, 0.424 * 100],         # dikali 100 agar sebanding\n",
        "\n",
        "    # Hasil dari ANN setelah tuning\n",
        "    \"ANN_MMRE\": [0.518, 0.620],\n",
        "    \"ANN_PRED(0.25)\": [0.25 * 100, 0.40 * 100],\n",
        "    \"ANN_RMSE\": [3784.33, 3081.00],\n",
        "    \"ANN_MEAN\": [1757.01, 652.00],\n",
        "    \"ANN_R2\": [0.027 * 100, 0.423 * 100]\n",
        "}\n",
        "\n",
        "# Buat DataFrame\n",
        "df_lengkap_paper_style = pd.DataFrame(data_lengkap)\n",
        "\n",
        "# Tampilkan tabel hasil eksperimen\n",
        "print(\"📘 Tabel Perbandingan Hasil Eksperimen Anda:\\n\")\n",
        "print(df_lengkap_paper_style.to_string(index=False))"
      ],
      "metadata": {
        "colab": {
          "base_uri": "https://localhost:8080/"
        },
        "id": "t7JF443pJnMx",
        "outputId": "6693ddaf-b859-4044-e0b9-fcce4bcf4b80"
      },
      "execution_count": 13,
      "outputs": [
        {
          "output_type": "stream",
          "name": "stdout",
          "text": [
            "📘 Tabel Perbandingan Hasil Eksperimen Anda:\n",
            "\n",
            "          Independent Variables  LR_MMRE  LR_PRED(0.25)  LR_RMSE  LR_MEAN  LR_R2  ANN_MMRE  ANN_PRED(0.25)  ANN_RMSE  ANN_MEAN  ANN_R2\n",
            "Size, Env, Language, TExp, MExp     0.34           37.5  2983.71   1252.9   60.6     0.518            25.0   3784.33   1757.01     2.7\n",
            "                           Size     0.61           35.0  3122.00    791.0   42.4     0.620            40.0   3081.00    652.00    42.3\n"
          ]
        }
      ]
    },
    {
      "cell_type": "code",
      "source": [
        "# ============================\n",
        "# 📊 Grafik Perbandingan Model Effort Estimation\n",
        "# ============================\n",
        "\n",
        "import pandas as pd\n",
        "import numpy as np\n",
        "import matplotlib.pyplot as plt\n",
        "from sklearn.linear_model import LinearRegression\n",
        "from sklearn.neighbors import KNeighborsRegressor\n",
        "from sklearn.svm import SVR\n",
        "\n",
        "# Step 1: Load dataset\n",
        "df = pd.read_csv('/content/02.desharnais.csv')  # ganti path jika berbeda\n",
        "df = df.drop(index=[37, 43, 64, 74])  # buang baris yang tidak lengkap\n",
        "\n",
        "# Step 2: Siapkan variabel prediktor dan target\n",
        "X = df[['Length']]        # variabel input\n",
        "y = df['Effort']          # target (dalam bentuk asli, bukan log)\n",
        "\n",
        "# Step 3: Urutkan berdasarkan Length agar hasil plot lebih halus\n",
        "X_sorted = X.sort_values(by='Length')\n",
        "y_sorted = y[X_sorted.index]\n",
        "\n",
        "# Step 4: Inisialisasi model-model yang akan dibandingkan\n",
        "models = {\n",
        "    \"Linear Regression Model\": LinearRegression(),\n",
        "    \"K Nearest Neighbors (k=3)\": KNeighborsRegressor(n_neighbors=3),\n",
        "    \"Support Vector Machine (Kernel=Linear)\": SVR(kernel='linear')\n",
        "}\n",
        "\n",
        "# Step 5: Training dan prediksi untuk masing-masing model\n",
        "predictions = {}\n",
        "for name, model in models.items():\n",
        "    model.fit(X_sorted, y_sorted)\n",
        "    predictions[name] = model.predict(X_sorted)\n",
        "\n",
        "# Step 6: Visualisasi hasil prediksi dibanding data asli\n",
        "plt.figure(figsize=(12, 5))\n",
        "plt.scatter(X_sorted, y_sorted, color='black', label='Real data', marker='x')  # titik asli\n",
        "\n",
        "for name, y_pred in predictions.items():\n",
        "    plt.plot(X_sorted, y_pred, label=name)  # garis hasil model\n",
        "\n",
        "plt.xlabel(\"Length\")\n",
        "plt.ylabel(\"Effort\")\n",
        "plt.title(\"Comparison of Effort Estimation Models\")\n",
        "plt.legend()\n",
        "plt.grid(True)\n",
        "plt.tight_layout()\n",
        "plt.show()"
      ],
      "metadata": {
        "colab": {
          "base_uri": "https://localhost:8080/",
          "height": 404
        },
        "id": "-YRPN9xwL1yE",
        "outputId": "a37c4c68-db77-4a07-8896-931e618b1333"
      },
      "execution_count": 14,
      "outputs": [
        {
          "output_type": "display_data",
          "data": {
            "text/plain": [
              "<Figure size 1200x500 with 1 Axes>"
            ],
            "image/png": "[encoded data removed]"
          },
          "metadata": {}
        }
      ]
    }
  ],
  "metadata": {
    "colab": {
      "provenance": []
    },
    "kernelspec": {
      "display_name": "Python 3",
      "language": "python",
      "name": "python3"
    },
    "language_info": {
      "name": "python"
    }
  },
  "nbformat": 4,
  "nbformat_minor": 0
}